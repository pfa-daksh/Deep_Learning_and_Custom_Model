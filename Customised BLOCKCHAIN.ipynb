{
  "nbformat": 4,
  "nbformat_minor": 0,
  "metadata": {
    "colab": {
      "provenance": [],
      "authorship_tag": "ABX9TyOLftqj+FqIupdOfeFFWsuM",
      "include_colab_link": true
    },
    "kernelspec": {
      "name": "python3",
      "display_name": "Python 3"
    },
    "language_info": {
      "name": "python"
    }
  },
  "cells": [
    {
      "cell_type": "markdown",
      "metadata": {
        "id": "view-in-github",
        "colab_type": "text"
      },
      "source": [
        "<a href=\"https://colab.research.google.com/github/pfa-daksh/Deep_Learning_and_Custom_Model/blob/main/Customised%20BLOCKCHAIN.ipynb\" target=\"_parent\"><img src=\"https://colab.research.google.com/assets/colab-badge.svg\" alt=\"Open In Colab\"/></a>"
      ]
    },
    {
      "cell_type": "code",
      "execution_count": null,
      "metadata": {
        "id": "p2ejCLmzsQ4X"
      },
      "outputs": [],
      "source": [
        "import hashlib"
      ]
    },
    {
      "cell_type": "code",
      "source": [
        "#from typing_extensions import Self\n",
        "class LBSIMCryptoBlock:\n",
        "  def __init__(self, previous_block_hash, transaction_list):\n",
        "    self.previous_block_hash = previous_block_hash\n",
        "    self.transaction = transaction_list\n",
        "    self.block_data = '-'.join(transaction_list) + '-' + previous_block_hash\n",
        "    self.block_hash = hashlib.sha256(self.block_data.encode()).hexdigest()"
      ],
      "metadata": {
        "id": "rd_VNgS5tZ_n"
      },
      "execution_count": null,
      "outputs": []
    },
    {
      "cell_type": "code",
      "source": [
        "#Transaction\n",
        "t1 = \"100 LBSIMCrypto given to ABC\"\n",
        "t2 = \"50 LBSIMCrypto received from XYZ\"\n",
        "t3 = \"Issued transcript\"\n",
        "t4 = \"purchased product\""
      ],
      "metadata": {
        "id": "4dG9PWnEwXar"
      },
      "execution_count": null,
      "outputs": []
    },
    {
      "cell_type": "code",
      "source": [
        "initial_block = LBSIMCryptoBlock('Feb8,2023 is a good day', [t1,t2])"
      ],
      "metadata": {
        "id": "yYkckYGgxbWf"
      },
      "execution_count": null,
      "outputs": []
    },
    {
      "cell_type": "code",
      "source": [
        "initial_block.block_data"
      ],
      "metadata": {
        "colab": {
          "base_uri": "https://localhost:8080/",
          "height": 36
        },
        "id": "HAwcJgYhwX5U",
        "outputId": "6dbc90c9-63a7-4598-a54a-678ce7b4b3f4"
      },
      "execution_count": null,
      "outputs": [
        {
          "output_type": "execute_result",
          "data": {
            "text/plain": [
              "'100 LBSIMCrypto given to ABC-50 LBSIMCrypto received from XYZ-Feb8,2023 is a good day'"
            ],
            "application/vnd.google.colaboratory.intrinsic+json": {
              "type": "string"
            }
          },
          "metadata": {},
          "execution_count": 5
        }
      ]
    },
    {
      "cell_type": "code",
      "source": [
        "initial_block.block_hash"
      ],
      "metadata": {
        "colab": {
          "base_uri": "https://localhost:8080/",
          "height": 36
        },
        "id": "mCjiHtPDwX8q",
        "outputId": "6f87e1fe-ccba-4cf1-a92c-ff2f69446c40"
      },
      "execution_count": null,
      "outputs": [
        {
          "output_type": "execute_result",
          "data": {
            "text/plain": [
              "'36fe048d279b8dbeaf3e06d82726b31550c353ed61f7949fa547dd04f1a71889'"
            ],
            "application/vnd.google.colaboratory.intrinsic+json": {
              "type": "string"
            }
          },
          "metadata": {},
          "execution_count": 6
        }
      ]
    },
    {
      "cell_type": "code",
      "source": [
        "second_block = LBSIMCryptoBlock(initial_block.block_hash, [t3,t4])"
      ],
      "metadata": {
        "id": "8l6D-9QJz8NC"
      },
      "execution_count": null,
      "outputs": []
    },
    {
      "cell_type": "code",
      "source": [
        "second_block.block_data"
      ],
      "metadata": {
        "colab": {
          "base_uri": "https://localhost:8080/",
          "height": 36
        },
        "id": "PxXC6fCOz8Fv",
        "outputId": "4dc0c535-d39f-45f0-84de-5cbbeb67458a"
      },
      "execution_count": null,
      "outputs": [
        {
          "output_type": "execute_result",
          "data": {
            "text/plain": [
              "'Issued transcript-purchased product-36fe048d279b8dbeaf3e06d82726b31550c353ed61f7949fa547dd04f1a71889'"
            ],
            "application/vnd.google.colaboratory.intrinsic+json": {
              "type": "string"
            }
          },
          "metadata": {},
          "execution_count": 8
        }
      ]
    },
    {
      "cell_type": "code",
      "source": [
        "second_block.block_hash"
      ],
      "metadata": {
        "colab": {
          "base_uri": "https://localhost:8080/",
          "height": 36
        },
        "id": "jr4iutZ9z75X",
        "outputId": "06ad7fed-4f48-4447-fe0e-665267e8678c"
      },
      "execution_count": null,
      "outputs": [
        {
          "output_type": "execute_result",
          "data": {
            "text/plain": [
              "'e16093ec11c809c37f8ca6a7229179ced58e33ac6137e84eaa7fdbf18c342a02'"
            ],
            "application/vnd.google.colaboratory.intrinsic+json": {
              "type": "string"
            }
          },
          "metadata": {},
          "execution_count": 9
        }
      ]
    }
  ]
}